{
 "cells": [
  {
   "cell_type": "markdown",
   "id": "087c16fd",
   "metadata": {},
   "source": [
    "# Real Estate Housing Price Forecast_ Brainstation_Capstone Project"
   ]
  },
  {
   "attachments": {},
   "cell_type": "markdown",
   "id": "eac4147d",
   "metadata": {},
   "source": [
    "## Scope:\n",
    "Real estate market in the United States for single house families of condo/ coop, and house from 1 bedroom to 5+  bedrooms\n"
   ]
  },
  {
   "attachments": {},
   "cell_type": "markdown",
   "id": "c8df73b0",
   "metadata": {},
   "source": [
    "## Dataset:\n",
    "- 523 columns containing typical value in USD for all single-family homes in the respective cities monthly for condo/coops, and homes with 1, 2, 3, 4 and 5+ bedrooms\n",
    "- 1 columns con containing typical value in USD for all single-family homes in the United States monthly for condo/coops, and homes with 1, 2, 3, 4 and 5+ bedrooms\n",
    "- Data Source: Contains if the row value corresponds to condo/coops,  or homes with 1, 2, 3, 4 and 5+ bedrooms\n",
    "- Date: Contains date, by month\n",
    "- Interest Rate: It is the percent of interest rate for the respective month in US\n",
    "- Pop_Level: Count the population level in US in thousands of Persons\n",
    "- Working Age Population: Count of working age population in the US\n",
    "- Employment Ratio: Percentage of employment in the US\n",
    "- GDP: Quarterly measurement of Gross Domestic Product in the US\n",
    "\n",
    "\n"
   ]
  },
  {
   "attachments": {},
   "cell_type": "markdown",
   "id": "cb2f64f5",
   "metadata": {},
   "source": [
    "## Notes: \n",
    "- Data was taken from different sources and merged together to see the effect of different factors in single family house predicton\n",
    "\n",
    "## References:\n",
    "- https://www.zillow.com/research/data/\n",
    "- https://fred.stlouisfed.org/tags/series?t=interest+rate%3Bmonthly%3Busa\n",
    "- https://fred.stlouisfed.org/series/FEDFUNDS\n",
    "- https://fred.stlouisfed.org/series/GDP\n",
    "- https://fred.stlouisfed.org/series/CNP16OV\n",
    "- https://fred.stlouisfed.org/series/LFWA64TTUSM647S\n",
    "- https://fred.stlouisfed.org/series/EMRATIO"
   ]
  },
  {
   "cell_type": "markdown",
   "id": "c70e190b",
   "metadata": {},
   "source": [
    "# Notebook:"
   ]
  },
  {
   "cell_type": "markdown",
   "id": "c4b08c41",
   "metadata": {},
   "source": [
    "### 1. Data Preparation"
   ]
  },
  {
   "cell_type": "code",
   "execution_count": 113,
   "id": "17eec5a7",
   "metadata": {},
   "outputs": [],
   "source": [
    "# Importing libraries for notebook\n",
    "import pandas as pd\n",
    "import numpy as np\n",
    "import matplotlib.pyplot as plt\n",
    "import seaborn as sns\n",
    "import plotly.express as px"
   ]
  },
  {
   "cell_type": "code",
   "execution_count": 114,
   "id": "6a3e956c",
   "metadata": {},
   "outputs": [],
   "source": [
    "# Reading the dataset in pandas DataFrame\n",
    "\n",
    "file='231009_Dataset_RE.xlsx'\n",
    "df = pd.read_excel(file)"
   ]
  },
  {
   "cell_type": "code",
   "execution_count": 115,
   "id": "4c7bbc47",
   "metadata": {},
   "outputs": [
    {
     "data": {
      "text/html": [
       "<div>\n",
       "<style scoped>\n",
       "    .dataframe tbody tr th:only-of-type {\n",
       "        vertical-align: middle;\n",
       "    }\n",
       "\n",
       "    .dataframe tbody tr th {\n",
       "        vertical-align: top;\n",
       "    }\n",
       "\n",
       "    .dataframe thead th {\n",
       "        text-align: right;\n",
       "    }\n",
       "</style>\n",
       "<table border=\"1\" class=\"dataframe\">\n",
       "  <thead>\n",
       "    <tr style=\"text-align: right;\">\n",
       "      <th></th>\n",
       "      <th>Data Source</th>\n",
       "      <th>Date</th>\n",
       "      <th>United States</th>\n",
       "      <th>New York, NY</th>\n",
       "      <th>Los Angeles, CA</th>\n",
       "      <th>Chicago, IL</th>\n",
       "      <th>Dallas, TX</th>\n",
       "      <th>Houston, TX</th>\n",
       "      <th>Washington, DC</th>\n",
       "      <th>Philadelphia, PA</th>\n",
       "      <th>...</th>\n",
       "      <th>Los Alamos, NM</th>\n",
       "      <th>Spirit Lake, IA</th>\n",
       "      <th>Spencer, IA</th>\n",
       "      <th>Fairfield, IA</th>\n",
       "      <th>Ketchikan, AK</th>\n",
       "      <th>Interest Rates Percentage</th>\n",
       "      <th>Pop_Level</th>\n",
       "      <th>Working Age Population</th>\n",
       "      <th>Employment Ratio Percentage</th>\n",
       "      <th>GDP</th>\n",
       "    </tr>\n",
       "  </thead>\n",
       "  <tbody>\n",
       "    <tr>\n",
       "      <th>0</th>\n",
       "      <td>ZHVI Condo/Co-op</td>\n",
       "      <td>2000-01-31</td>\n",
       "      <td>117347.473913</td>\n",
       "      <td>187974.271420</td>\n",
       "      <td>173372.334246</td>\n",
       "      <td>130020.379809</td>\n",
       "      <td>86541.694145</td>\n",
       "      <td>84873.098887</td>\n",
       "      <td>121361.967946</td>\n",
       "      <td>93103.779757</td>\n",
       "      <td>...</td>\n",
       "      <td>NaN</td>\n",
       "      <td>NaN</td>\n",
       "      <td>NaN</td>\n",
       "      <td>NaN</td>\n",
       "      <td>NaN</td>\n",
       "      <td>5.73</td>\n",
       "      <td>211576</td>\n",
       "      <td>1.783418e+08</td>\n",
       "      <td>64.6</td>\n",
       "      <td>NaN</td>\n",
       "    </tr>\n",
       "    <tr>\n",
       "      <th>1</th>\n",
       "      <td>ZHVI 1-Bed</td>\n",
       "      <td>2000-01-31</td>\n",
       "      <td>75086.605645</td>\n",
       "      <td>129188.452183</td>\n",
       "      <td>122289.554093</td>\n",
       "      <td>95084.612935</td>\n",
       "      <td>62264.955926</td>\n",
       "      <td>71617.302625</td>\n",
       "      <td>104820.265095</td>\n",
       "      <td>79069.765755</td>\n",
       "      <td>...</td>\n",
       "      <td>NaN</td>\n",
       "      <td>78733.541289</td>\n",
       "      <td>33916.118705</td>\n",
       "      <td>NaN</td>\n",
       "      <td>NaN</td>\n",
       "      <td>5.73</td>\n",
       "      <td>211576</td>\n",
       "      <td>1.783418e+08</td>\n",
       "      <td>64.6</td>\n",
       "      <td>NaN</td>\n",
       "    </tr>\n",
       "    <tr>\n",
       "      <th>2</th>\n",
       "      <td>ZHVI 2-Bed</td>\n",
       "      <td>2000-01-31</td>\n",
       "      <td>84066.548439</td>\n",
       "      <td>148096.356791</td>\n",
       "      <td>169506.426525</td>\n",
       "      <td>103188.460770</td>\n",
       "      <td>70130.894803</td>\n",
       "      <td>72736.508189</td>\n",
       "      <td>124617.295993</td>\n",
       "      <td>92866.594246</td>\n",
       "      <td>...</td>\n",
       "      <td>NaN</td>\n",
       "      <td>NaN</td>\n",
       "      <td>NaN</td>\n",
       "      <td>NaN</td>\n",
       "      <td>NaN</td>\n",
       "      <td>5.73</td>\n",
       "      <td>211576</td>\n",
       "      <td>1.783418e+08</td>\n",
       "      <td>64.6</td>\n",
       "      <td>NaN</td>\n",
       "    </tr>\n",
       "    <tr>\n",
       "      <th>3</th>\n",
       "      <td>ZHVI 3-Bed</td>\n",
       "      <td>2000-01-31</td>\n",
       "      <td>115077.056785</td>\n",
       "      <td>192494.604544</td>\n",
       "      <td>214788.471884</td>\n",
       "      <td>130028.969963</td>\n",
       "      <td>102453.573326</td>\n",
       "      <td>100505.814807</td>\n",
       "      <td>148272.896844</td>\n",
       "      <td>102075.145921</td>\n",
       "      <td>...</td>\n",
       "      <td>NaN</td>\n",
       "      <td>NaN</td>\n",
       "      <td>NaN</td>\n",
       "      <td>NaN</td>\n",
       "      <td>NaN</td>\n",
       "      <td>5.73</td>\n",
       "      <td>211576</td>\n",
       "      <td>1.783418e+08</td>\n",
       "      <td>64.6</td>\n",
       "      <td>NaN</td>\n",
       "    </tr>\n",
       "    <tr>\n",
       "      <th>4</th>\n",
       "      <td>ZHVI 4-Bed</td>\n",
       "      <td>2000-01-31</td>\n",
       "      <td>170084.805012</td>\n",
       "      <td>255907.857662</td>\n",
       "      <td>280417.768603</td>\n",
       "      <td>207092.913059</td>\n",
       "      <td>178238.174429</td>\n",
       "      <td>163813.717839</td>\n",
       "      <td>219752.013691</td>\n",
       "      <td>186983.372940</td>\n",
       "      <td>...</td>\n",
       "      <td>NaN</td>\n",
       "      <td>NaN</td>\n",
       "      <td>NaN</td>\n",
       "      <td>NaN</td>\n",
       "      <td>NaN</td>\n",
       "      <td>5.73</td>\n",
       "      <td>211576</td>\n",
       "      <td>1.783418e+08</td>\n",
       "      <td>64.6</td>\n",
       "      <td>NaN</td>\n",
       "    </tr>\n",
       "  </tbody>\n",
       "</table>\n",
       "<p>5 rows × 531 columns</p>\n",
       "</div>"
      ],
      "text/plain": [
       "        Data Source       Date  United States   New York, NY  Los Angeles, CA  \\\n",
       "0  ZHVI Condo/Co-op 2000-01-31  117347.473913  187974.271420    173372.334246   \n",
       "1        ZHVI 1-Bed 2000-01-31   75086.605645  129188.452183    122289.554093   \n",
       "2        ZHVI 2-Bed 2000-01-31   84066.548439  148096.356791    169506.426525   \n",
       "3        ZHVI 3-Bed 2000-01-31  115077.056785  192494.604544    214788.471884   \n",
       "4        ZHVI 4-Bed 2000-01-31  170084.805012  255907.857662    280417.768603   \n",
       "\n",
       "     Chicago, IL     Dallas, TX    Houston, TX  Washington, DC  \\\n",
       "0  130020.379809   86541.694145   84873.098887   121361.967946   \n",
       "1   95084.612935   62264.955926   71617.302625   104820.265095   \n",
       "2  103188.460770   70130.894803   72736.508189   124617.295993   \n",
       "3  130028.969963  102453.573326  100505.814807   148272.896844   \n",
       "4  207092.913059  178238.174429  163813.717839   219752.013691   \n",
       "\n",
       "   Philadelphia, PA  ...  Los Alamos, NM  Spirit Lake, IA   Spencer, IA  \\\n",
       "0      93103.779757  ...             NaN              NaN           NaN   \n",
       "1      79069.765755  ...             NaN     78733.541289  33916.118705   \n",
       "2      92866.594246  ...             NaN              NaN           NaN   \n",
       "3     102075.145921  ...             NaN              NaN           NaN   \n",
       "4     186983.372940  ...             NaN              NaN           NaN   \n",
       "\n",
       "   Fairfield, IA  Ketchikan, AK  Interest Rates Percentage  Pop_Level  \\\n",
       "0            NaN            NaN                       5.73     211576   \n",
       "1            NaN            NaN                       5.73     211576   \n",
       "2            NaN            NaN                       5.73     211576   \n",
       "3            NaN            NaN                       5.73     211576   \n",
       "4            NaN            NaN                       5.73     211576   \n",
       "\n",
       "   Working Age Population  Employment Ratio Percentage  GDP  \n",
       "0            1.783418e+08                         64.6  NaN  \n",
       "1            1.783418e+08                         64.6  NaN  \n",
       "2            1.783418e+08                         64.6  NaN  \n",
       "3            1.783418e+08                         64.6  NaN  \n",
       "4            1.783418e+08                         64.6  NaN  \n",
       "\n",
       "[5 rows x 531 columns]"
      ]
     },
     "execution_count": 115,
     "metadata": {},
     "output_type": "execute_result"
    }
   ],
   "source": [
    "# Display the first 5 rows of the dataframe\n",
    "df.head()"
   ]
  },
  {
   "cell_type": "code",
   "execution_count": 116,
   "id": "d3745da2",
   "metadata": {},
   "outputs": [
    {
     "data": {
      "text/plain": [
       "(1704, 531)"
      ]
     },
     "execution_count": 116,
     "metadata": {},
     "output_type": "execute_result"
    }
   ],
   "source": [
    "# Get the shape of the dataset (number of rows, number of columns)\n",
    "df.shape"
   ]
  },
  {
   "cell_type": "code",
   "execution_count": 117,
   "id": "8beaf823",
   "metadata": {},
   "outputs": [],
   "source": [
    "# In order In order to organize better and minimize the number of columns, all locations- cities and Country values home prices values- the columns with locations will be stacked\n",
    "# and combined into one column for property price values and another for the name of the location\n",
    "\n",
    "# Specify the columns to use as index columns\n",
    "index_columns = ['Data Source', 'Date', 'Interest Rates Percentage', 'GDP', 'Pop_Level','Working Age Population', 'Employment Ratio Percentage' ]\n",
    "\n",
    "# List of columns to stack\n",
    "columns_to_stack = [col for col in df.columns if col not in index_columns]\n",
    "\n",
    "# Use of melt function to stack the specified columns into a single column\n",
    "stacked_df = pd.melt(df, id_vars=index_columns, value_vars=columns_to_stack, var_name='Location', value_name='single-family home $')"
   ]
  },
  {
   "cell_type": "code",
   "execution_count": 118,
   "id": "0aca44b2",
   "metadata": {},
   "outputs": [
    {
     "data": {
      "text/plain": [
       "(892896, 9)"
      ]
     },
     "execution_count": 118,
     "metadata": {},
     "output_type": "execute_result"
    }
   ],
   "source": [
    "# Looking at the shape of the new stacked dataframe\n",
    "stacked_df.shape"
   ]
  },
  {
   "cell_type": "code",
   "execution_count": 119,
   "id": "6721ca8c",
   "metadata": {
    "scrolled": true
   },
   "outputs": [
    {
     "data": {
      "text/html": [
       "<div>\n",
       "<style scoped>\n",
       "    .dataframe tbody tr th:only-of-type {\n",
       "        vertical-align: middle;\n",
       "    }\n",
       "\n",
       "    .dataframe tbody tr th {\n",
       "        vertical-align: top;\n",
       "    }\n",
       "\n",
       "    .dataframe thead th {\n",
       "        text-align: right;\n",
       "    }\n",
       "</style>\n",
       "<table border=\"1\" class=\"dataframe\">\n",
       "  <thead>\n",
       "    <tr style=\"text-align: right;\">\n",
       "      <th></th>\n",
       "      <th>Data Source</th>\n",
       "      <th>Date</th>\n",
       "      <th>Interest Rates Percentage</th>\n",
       "      <th>GDP</th>\n",
       "      <th>Pop_Level</th>\n",
       "      <th>Working Age Population</th>\n",
       "      <th>Employment Ratio Percentage</th>\n",
       "      <th>Location</th>\n",
       "      <th>single-family home $</th>\n",
       "    </tr>\n",
       "  </thead>\n",
       "  <tbody>\n",
       "    <tr>\n",
       "      <th>0</th>\n",
       "      <td>ZHVI Condo/Co-op</td>\n",
       "      <td>2000-01-31</td>\n",
       "      <td>5.73</td>\n",
       "      <td>NaN</td>\n",
       "      <td>211576</td>\n",
       "      <td>1.783418e+08</td>\n",
       "      <td>64.6</td>\n",
       "      <td>United States</td>\n",
       "      <td>117347.473913</td>\n",
       "    </tr>\n",
       "    <tr>\n",
       "      <th>1</th>\n",
       "      <td>ZHVI 1-Bed</td>\n",
       "      <td>2000-01-31</td>\n",
       "      <td>5.73</td>\n",
       "      <td>NaN</td>\n",
       "      <td>211576</td>\n",
       "      <td>1.783418e+08</td>\n",
       "      <td>64.6</td>\n",
       "      <td>United States</td>\n",
       "      <td>75086.605645</td>\n",
       "    </tr>\n",
       "    <tr>\n",
       "      <th>2</th>\n",
       "      <td>ZHVI 2-Bed</td>\n",
       "      <td>2000-01-31</td>\n",
       "      <td>5.73</td>\n",
       "      <td>NaN</td>\n",
       "      <td>211576</td>\n",
       "      <td>1.783418e+08</td>\n",
       "      <td>64.6</td>\n",
       "      <td>United States</td>\n",
       "      <td>84066.548439</td>\n",
       "    </tr>\n",
       "    <tr>\n",
       "      <th>3</th>\n",
       "      <td>ZHVI 3-Bed</td>\n",
       "      <td>2000-01-31</td>\n",
       "      <td>5.73</td>\n",
       "      <td>NaN</td>\n",
       "      <td>211576</td>\n",
       "      <td>1.783418e+08</td>\n",
       "      <td>64.6</td>\n",
       "      <td>United States</td>\n",
       "      <td>115077.056785</td>\n",
       "    </tr>\n",
       "    <tr>\n",
       "      <th>4</th>\n",
       "      <td>ZHVI 4-Bed</td>\n",
       "      <td>2000-01-31</td>\n",
       "      <td>5.73</td>\n",
       "      <td>NaN</td>\n",
       "      <td>211576</td>\n",
       "      <td>1.783418e+08</td>\n",
       "      <td>64.6</td>\n",
       "      <td>United States</td>\n",
       "      <td>170084.805012</td>\n",
       "    </tr>\n",
       "    <tr>\n",
       "      <th>5</th>\n",
       "      <td>ZHVI 5-Bed</td>\n",
       "      <td>2000-01-31</td>\n",
       "      <td>5.73</td>\n",
       "      <td>NaN</td>\n",
       "      <td>211576</td>\n",
       "      <td>1.783418e+08</td>\n",
       "      <td>64.6</td>\n",
       "      <td>United States</td>\n",
       "      <td>233515.778638</td>\n",
       "    </tr>\n",
       "    <tr>\n",
       "      <th>6</th>\n",
       "      <td>ZHVI Condo/Co-op</td>\n",
       "      <td>2000-02-29</td>\n",
       "      <td>5.85</td>\n",
       "      <td>NaN</td>\n",
       "      <td>211772</td>\n",
       "      <td>1.784040e+08</td>\n",
       "      <td>64.6</td>\n",
       "      <td>United States</td>\n",
       "      <td>117618.284287</td>\n",
       "    </tr>\n",
       "    <tr>\n",
       "      <th>7</th>\n",
       "      <td>ZHVI 1-Bed</td>\n",
       "      <td>2000-02-29</td>\n",
       "      <td>5.85</td>\n",
       "      <td>NaN</td>\n",
       "      <td>211772</td>\n",
       "      <td>1.784040e+08</td>\n",
       "      <td>64.6</td>\n",
       "      <td>United States</td>\n",
       "      <td>75259.564050</td>\n",
       "    </tr>\n",
       "    <tr>\n",
       "      <th>8</th>\n",
       "      <td>ZHVI 2-Bed</td>\n",
       "      <td>2000-02-29</td>\n",
       "      <td>5.85</td>\n",
       "      <td>NaN</td>\n",
       "      <td>211772</td>\n",
       "      <td>1.784040e+08</td>\n",
       "      <td>64.6</td>\n",
       "      <td>United States</td>\n",
       "      <td>84220.407310</td>\n",
       "    </tr>\n",
       "    <tr>\n",
       "      <th>9</th>\n",
       "      <td>ZHVI 3-Bed</td>\n",
       "      <td>2000-02-29</td>\n",
       "      <td>5.85</td>\n",
       "      <td>NaN</td>\n",
       "      <td>211772</td>\n",
       "      <td>1.784040e+08</td>\n",
       "      <td>64.6</td>\n",
       "      <td>United States</td>\n",
       "      <td>115274.260682</td>\n",
       "    </tr>\n",
       "    <tr>\n",
       "      <th>10</th>\n",
       "      <td>ZHVI 4-Bed</td>\n",
       "      <td>2000-02-29</td>\n",
       "      <td>5.85</td>\n",
       "      <td>NaN</td>\n",
       "      <td>211772</td>\n",
       "      <td>1.784040e+08</td>\n",
       "      <td>64.6</td>\n",
       "      <td>United States</td>\n",
       "      <td>170427.928058</td>\n",
       "    </tr>\n",
       "    <tr>\n",
       "      <th>11</th>\n",
       "      <td>ZHVI 5-Bed</td>\n",
       "      <td>2000-02-29</td>\n",
       "      <td>5.85</td>\n",
       "      <td>NaN</td>\n",
       "      <td>211772</td>\n",
       "      <td>1.784040e+08</td>\n",
       "      <td>64.6</td>\n",
       "      <td>United States</td>\n",
       "      <td>234081.685128</td>\n",
       "    </tr>\n",
       "    <tr>\n",
       "      <th>12</th>\n",
       "      <td>ZHVI Condo/Co-op</td>\n",
       "      <td>2000-03-31</td>\n",
       "      <td>6.02</td>\n",
       "      <td>10247.72</td>\n",
       "      <td>212018</td>\n",
       "      <td>1.785804e+08</td>\n",
       "      <td>64.7</td>\n",
       "      <td>United States</td>\n",
       "      <td>117958.467811</td>\n",
       "    </tr>\n",
       "    <tr>\n",
       "      <th>13</th>\n",
       "      <td>ZHVI 1-Bed</td>\n",
       "      <td>2000-03-31</td>\n",
       "      <td>6.02</td>\n",
       "      <td>10247.72</td>\n",
       "      <td>212018</td>\n",
       "      <td>1.785804e+08</td>\n",
       "      <td>64.7</td>\n",
       "      <td>United States</td>\n",
       "      <td>75474.538148</td>\n",
       "    </tr>\n",
       "    <tr>\n",
       "      <th>14</th>\n",
       "      <td>ZHVI 2-Bed</td>\n",
       "      <td>2000-03-31</td>\n",
       "      <td>6.02</td>\n",
       "      <td>10247.72</td>\n",
       "      <td>212018</td>\n",
       "      <td>1.785804e+08</td>\n",
       "      <td>64.7</td>\n",
       "      <td>United States</td>\n",
       "      <td>84409.723746</td>\n",
       "    </tr>\n",
       "    <tr>\n",
       "      <th>15</th>\n",
       "      <td>ZHVI 3-Bed</td>\n",
       "      <td>2000-03-31</td>\n",
       "      <td>6.02</td>\n",
       "      <td>10247.72</td>\n",
       "      <td>212018</td>\n",
       "      <td>1.785804e+08</td>\n",
       "      <td>64.7</td>\n",
       "      <td>United States</td>\n",
       "      <td>115513.525402</td>\n",
       "    </tr>\n",
       "    <tr>\n",
       "      <th>16</th>\n",
       "      <td>ZHVI 4-Bed</td>\n",
       "      <td>2000-03-31</td>\n",
       "      <td>6.02</td>\n",
       "      <td>10247.72</td>\n",
       "      <td>212018</td>\n",
       "      <td>1.785804e+08</td>\n",
       "      <td>64.7</td>\n",
       "      <td>United States</td>\n",
       "      <td>170838.827402</td>\n",
       "    </tr>\n",
       "    <tr>\n",
       "      <th>17</th>\n",
       "      <td>ZHVI 5-Bed</td>\n",
       "      <td>2000-03-31</td>\n",
       "      <td>6.02</td>\n",
       "      <td>10247.72</td>\n",
       "      <td>212018</td>\n",
       "      <td>1.785804e+08</td>\n",
       "      <td>64.7</td>\n",
       "      <td>United States</td>\n",
       "      <td>234726.384123</td>\n",
       "    </tr>\n",
       "    <tr>\n",
       "      <th>18</th>\n",
       "      <td>ZHVI Condo/Co-op</td>\n",
       "      <td>2000-04-30</td>\n",
       "      <td>6.27</td>\n",
       "      <td>NaN</td>\n",
       "      <td>212242</td>\n",
       "      <td>1.787275e+08</td>\n",
       "      <td>64.4</td>\n",
       "      <td>United States</td>\n",
       "      <td>118683.783260</td>\n",
       "    </tr>\n",
       "    <tr>\n",
       "      <th>19</th>\n",
       "      <td>ZHVI 1-Bed</td>\n",
       "      <td>2000-04-30</td>\n",
       "      <td>6.27</td>\n",
       "      <td>NaN</td>\n",
       "      <td>212242</td>\n",
       "      <td>1.787275e+08</td>\n",
       "      <td>64.4</td>\n",
       "      <td>United States</td>\n",
       "      <td>75932.039910</td>\n",
       "    </tr>\n",
       "  </tbody>\n",
       "</table>\n",
       "</div>"
      ],
      "text/plain": [
       "         Data Source       Date  Interest Rates Percentage       GDP  \\\n",
       "0   ZHVI Condo/Co-op 2000-01-31                       5.73       NaN   \n",
       "1         ZHVI 1-Bed 2000-01-31                       5.73       NaN   \n",
       "2         ZHVI 2-Bed 2000-01-31                       5.73       NaN   \n",
       "3         ZHVI 3-Bed 2000-01-31                       5.73       NaN   \n",
       "4         ZHVI 4-Bed 2000-01-31                       5.73       NaN   \n",
       "5         ZHVI 5-Bed 2000-01-31                       5.73       NaN   \n",
       "6   ZHVI Condo/Co-op 2000-02-29                       5.85       NaN   \n",
       "7         ZHVI 1-Bed 2000-02-29                       5.85       NaN   \n",
       "8         ZHVI 2-Bed 2000-02-29                       5.85       NaN   \n",
       "9         ZHVI 3-Bed 2000-02-29                       5.85       NaN   \n",
       "10        ZHVI 4-Bed 2000-02-29                       5.85       NaN   \n",
       "11        ZHVI 5-Bed 2000-02-29                       5.85       NaN   \n",
       "12  ZHVI Condo/Co-op 2000-03-31                       6.02  10247.72   \n",
       "13        ZHVI 1-Bed 2000-03-31                       6.02  10247.72   \n",
       "14        ZHVI 2-Bed 2000-03-31                       6.02  10247.72   \n",
       "15        ZHVI 3-Bed 2000-03-31                       6.02  10247.72   \n",
       "16        ZHVI 4-Bed 2000-03-31                       6.02  10247.72   \n",
       "17        ZHVI 5-Bed 2000-03-31                       6.02  10247.72   \n",
       "18  ZHVI Condo/Co-op 2000-04-30                       6.27       NaN   \n",
       "19        ZHVI 1-Bed 2000-04-30                       6.27       NaN   \n",
       "\n",
       "    Pop_Level  Working Age Population  Employment Ratio Percentage  \\\n",
       "0      211576            1.783418e+08                         64.6   \n",
       "1      211576            1.783418e+08                         64.6   \n",
       "2      211576            1.783418e+08                         64.6   \n",
       "3      211576            1.783418e+08                         64.6   \n",
       "4      211576            1.783418e+08                         64.6   \n",
       "5      211576            1.783418e+08                         64.6   \n",
       "6      211772            1.784040e+08                         64.6   \n",
       "7      211772            1.784040e+08                         64.6   \n",
       "8      211772            1.784040e+08                         64.6   \n",
       "9      211772            1.784040e+08                         64.6   \n",
       "10     211772            1.784040e+08                         64.6   \n",
       "11     211772            1.784040e+08                         64.6   \n",
       "12     212018            1.785804e+08                         64.7   \n",
       "13     212018            1.785804e+08                         64.7   \n",
       "14     212018            1.785804e+08                         64.7   \n",
       "15     212018            1.785804e+08                         64.7   \n",
       "16     212018            1.785804e+08                         64.7   \n",
       "17     212018            1.785804e+08                         64.7   \n",
       "18     212242            1.787275e+08                         64.4   \n",
       "19     212242            1.787275e+08                         64.4   \n",
       "\n",
       "         Location  single-family home $  \n",
       "0   United States         117347.473913  \n",
       "1   United States          75086.605645  \n",
       "2   United States          84066.548439  \n",
       "3   United States         115077.056785  \n",
       "4   United States         170084.805012  \n",
       "5   United States         233515.778638  \n",
       "6   United States         117618.284287  \n",
       "7   United States          75259.564050  \n",
       "8   United States          84220.407310  \n",
       "9   United States         115274.260682  \n",
       "10  United States         170427.928058  \n",
       "11  United States         234081.685128  \n",
       "12  United States         117958.467811  \n",
       "13  United States          75474.538148  \n",
       "14  United States          84409.723746  \n",
       "15  United States         115513.525402  \n",
       "16  United States         170838.827402  \n",
       "17  United States         234726.384123  \n",
       "18  United States         118683.783260  \n",
       "19  United States          75932.039910  "
      ]
     },
     "execution_count": 119,
     "metadata": {},
     "output_type": "execute_result"
    }
   ],
   "source": [
    "# Observing the first 20 rows of the stacked dataframe\n",
    "stacked_df.head(20)"
   ]
  },
  {
   "cell_type": "code",
   "execution_count": 120,
   "id": "e1ba1d1b",
   "metadata": {},
   "outputs": [],
   "source": [
    "# Optional code to download new dataframe\n",
    "\n",
    "# stacked_df.to_excel('stacked_dataframe.xlsx', index=False)"
   ]
  },
  {
   "cell_type": "code",
   "execution_count": 121,
   "id": "785befc6",
   "metadata": {},
   "outputs": [
    {
     "data": {
      "text/html": [
       "<div>\n",
       "<style scoped>\n",
       "    .dataframe tbody tr th:only-of-type {\n",
       "        vertical-align: middle;\n",
       "    }\n",
       "\n",
       "    .dataframe tbody tr th {\n",
       "        vertical-align: top;\n",
       "    }\n",
       "\n",
       "    .dataframe thead th {\n",
       "        text-align: right;\n",
       "    }\n",
       "</style>\n",
       "<table border=\"1\" class=\"dataframe\">\n",
       "  <thead>\n",
       "    <tr style=\"text-align: right;\">\n",
       "      <th></th>\n",
       "      <th>Interest Rates Percentage</th>\n",
       "      <th>GDP</th>\n",
       "      <th>Pop_Level</th>\n",
       "      <th>Working Age Population</th>\n",
       "      <th>Employment Ratio Percentage</th>\n",
       "      <th>single-family home $</th>\n",
       "    </tr>\n",
       "  </thead>\n",
       "  <tbody>\n",
       "    <tr>\n",
       "      <th>count</th>\n",
       "      <td>889752.000000</td>\n",
       "      <td>292392.000000</td>\n",
       "      <td>892896.000000</td>\n",
       "      <td>8.897520e+05</td>\n",
       "      <td>892896.000000</td>\n",
       "      <td>2.705120e+05</td>\n",
       "    </tr>\n",
       "    <tr>\n",
       "      <th>mean</th>\n",
       "      <td>1.722226</td>\n",
       "      <td>16684.890613</td>\n",
       "      <td>241055.257042</td>\n",
       "      <td>1.980876e+08</td>\n",
       "      <td>60.596831</td>\n",
       "      <td>1.641938e+05</td>\n",
       "    </tr>\n",
       "    <tr>\n",
       "      <th>std</th>\n",
       "      <td>1.904986</td>\n",
       "      <td>4393.450431</td>\n",
       "      <td>16144.435203</td>\n",
       "      <td>8.552082e+06</td>\n",
       "      <td>2.122323</td>\n",
       "      <td>1.299196e+05</td>\n",
       "    </tr>\n",
       "    <tr>\n",
       "      <th>min</th>\n",
       "      <td>0.050000</td>\n",
       "      <td>10247.720000</td>\n",
       "      <td>211576.000000</td>\n",
       "      <td>1.783418e+08</td>\n",
       "      <td>51.300000</td>\n",
       "      <td>1.709753e+04</td>\n",
       "    </tr>\n",
       "    <tr>\n",
       "      <th>25%</th>\n",
       "      <td>0.140000</td>\n",
       "      <td>13599.160000</td>\n",
       "      <td>227521.000000</td>\n",
       "      <td>1.921451e+08</td>\n",
       "      <td>58.800000</td>\n",
       "      <td>8.591117e+04</td>\n",
       "    </tr>\n",
       "    <tr>\n",
       "      <th>50%</th>\n",
       "      <td>1.030000</td>\n",
       "      <td>15842.259000</td>\n",
       "      <td>240512.500000</td>\n",
       "      <td>2.004187e+08</td>\n",
       "      <td>60.250000</td>\n",
       "      <td>1.276575e+05</td>\n",
       "    </tr>\n",
       "    <tr>\n",
       "      <th>75%</th>\n",
       "      <td>2.490000</td>\n",
       "      <td>19692.595000</td>\n",
       "      <td>255811.750000</td>\n",
       "      <td>2.054807e+08</td>\n",
       "      <td>62.500000</td>\n",
       "      <td>1.940050e+05</td>\n",
       "    </tr>\n",
       "    <tr>\n",
       "      <th>max</th>\n",
       "      <td>6.540000</td>\n",
       "      <td>27063.012000</td>\n",
       "      <td>267428.000000</td>\n",
       "      <td>2.089349e+08</td>\n",
       "      <td>64.700000</td>\n",
       "      <td>2.131263e+06</td>\n",
       "    </tr>\n",
       "  </tbody>\n",
       "</table>\n",
       "</div>"
      ],
      "text/plain": [
       "       Interest Rates Percentage            GDP      Pop_Level  \\\n",
       "count              889752.000000  292392.000000  892896.000000   \n",
       "mean                    1.722226   16684.890613  241055.257042   \n",
       "std                     1.904986    4393.450431   16144.435203   \n",
       "min                     0.050000   10247.720000  211576.000000   \n",
       "25%                     0.140000   13599.160000  227521.000000   \n",
       "50%                     1.030000   15842.259000  240512.500000   \n",
       "75%                     2.490000   19692.595000  255811.750000   \n",
       "max                     6.540000   27063.012000  267428.000000   \n",
       "\n",
       "       Working Age Population  Employment Ratio Percentage  \\\n",
       "count            8.897520e+05                892896.000000   \n",
       "mean             1.980876e+08                    60.596831   \n",
       "std              8.552082e+06                     2.122323   \n",
       "min              1.783418e+08                    51.300000   \n",
       "25%              1.921451e+08                    58.800000   \n",
       "50%              2.004187e+08                    60.250000   \n",
       "75%              2.054807e+08                    62.500000   \n",
       "max              2.089349e+08                    64.700000   \n",
       "\n",
       "       single-family home $  \n",
       "count          2.705120e+05  \n",
       "mean           1.641938e+05  \n",
       "std            1.299196e+05  \n",
       "min            1.709753e+04  \n",
       "25%            8.591117e+04  \n",
       "50%            1.276575e+05  \n",
       "75%            1.940050e+05  \n",
       "max            2.131263e+06  "
      ]
     },
     "execution_count": 121,
     "metadata": {},
     "output_type": "execute_result"
    }
   ],
   "source": [
    "# Getting a summary of the stacked dataset statistics\n",
    "stacked_df.describe()\n",
    "\n",
    "# Note: At this point, single-family home $ is mixing the values of cities with the values nation wide ( US)"
   ]
  },
  {
   "cell_type": "code",
   "execution_count": 122,
   "id": "16d54655",
   "metadata": {},
   "outputs": [
    {
     "data": {
      "text/plain": [
       "Data Source                            object\n",
       "Date                           datetime64[ns]\n",
       "Interest Rates Percentage             float64\n",
       "GDP                                   float64\n",
       "Pop_Level                               int64\n",
       "Working Age Population                float64\n",
       "Employment Ratio Percentage           float64\n",
       "Location                               object\n",
       "single-family home $                  float64\n",
       "dtype: object"
      ]
     },
     "execution_count": 122,
     "metadata": {},
     "output_type": "execute_result"
    }
   ],
   "source": [
    "# Checking data types of columns\n",
    "stacked_df.dtypes"
   ]
  },
  {
   "cell_type": "code",
   "execution_count": 123,
   "id": "272d13c2",
   "metadata": {},
   "outputs": [],
   "source": [
    "# Now, we will divide the stacked_df into two new dataframes, one will contain only data related to United States,\n",
    "# the second dataframe will have all cities.\n",
    "\n",
    "condition= stacked_df['Location'] == 'United States'\n",
    "\n",
    "nation_df=stacked_df[condition]\n",
    "\n",
    "cities_df=stacked_df[~condition]"
   ]
  },
  {
   "cell_type": "code",
   "execution_count": 124,
   "id": "acfc8a61",
   "metadata": {
    "scrolled": false
   },
   "outputs": [
    {
     "name": "stderr",
     "output_type": "stream",
     "text": [
      "C:\\Users\\Acer\\AppData\\Local\\Temp/ipykernel_44732/1205993326.py:2: FutureWarning: Treating datetime data as categorical rather than numeric in `.describe` is deprecated and will be removed in a future version of pandas. Specify `datetime_is_numeric=True` to silence this warning and adopt the future behavior now.\n",
      "  nation_df.describe(include='all')\n"
     ]
    },
    {
     "data": {
      "text/html": [
       "<div>\n",
       "<style scoped>\n",
       "    .dataframe tbody tr th:only-of-type {\n",
       "        vertical-align: middle;\n",
       "    }\n",
       "\n",
       "    .dataframe tbody tr th {\n",
       "        vertical-align: top;\n",
       "    }\n",
       "\n",
       "    .dataframe thead th {\n",
       "        text-align: right;\n",
       "    }\n",
       "</style>\n",
       "<table border=\"1\" class=\"dataframe\">\n",
       "  <thead>\n",
       "    <tr style=\"text-align: right;\">\n",
       "      <th></th>\n",
       "      <th>Data Source</th>\n",
       "      <th>Date</th>\n",
       "      <th>Interest Rates Percentage</th>\n",
       "      <th>GDP</th>\n",
       "      <th>Pop_Level</th>\n",
       "      <th>Working Age Population</th>\n",
       "      <th>Employment Ratio Percentage</th>\n",
       "      <th>Location</th>\n",
       "      <th>single-family home $</th>\n",
       "    </tr>\n",
       "  </thead>\n",
       "  <tbody>\n",
       "    <tr>\n",
       "      <th>count</th>\n",
       "      <td>1704</td>\n",
       "      <td>1704</td>\n",
       "      <td>1698.000000</td>\n",
       "      <td>558.000000</td>\n",
       "      <td>1704.000000</td>\n",
       "      <td>1.698000e+03</td>\n",
       "      <td>1704.000000</td>\n",
       "      <td>1704</td>\n",
       "      <td>1704.000000</td>\n",
       "    </tr>\n",
       "    <tr>\n",
       "      <th>unique</th>\n",
       "      <td>6</td>\n",
       "      <td>284</td>\n",
       "      <td>NaN</td>\n",
       "      <td>NaN</td>\n",
       "      <td>NaN</td>\n",
       "      <td>NaN</td>\n",
       "      <td>NaN</td>\n",
       "      <td>1</td>\n",
       "      <td>NaN</td>\n",
       "    </tr>\n",
       "    <tr>\n",
       "      <th>top</th>\n",
       "      <td>ZHVI Condo/Co-op</td>\n",
       "      <td>2000-01-31 00:00:00</td>\n",
       "      <td>NaN</td>\n",
       "      <td>NaN</td>\n",
       "      <td>NaN</td>\n",
       "      <td>NaN</td>\n",
       "      <td>NaN</td>\n",
       "      <td>United States</td>\n",
       "      <td>NaN</td>\n",
       "    </tr>\n",
       "    <tr>\n",
       "      <th>freq</th>\n",
       "      <td>284</td>\n",
       "      <td>6</td>\n",
       "      <td>NaN</td>\n",
       "      <td>NaN</td>\n",
       "      <td>NaN</td>\n",
       "      <td>NaN</td>\n",
       "      <td>NaN</td>\n",
       "      <td>1704</td>\n",
       "      <td>NaN</td>\n",
       "    </tr>\n",
       "    <tr>\n",
       "      <th>first</th>\n",
       "      <td>NaN</td>\n",
       "      <td>2000-01-31 00:00:00</td>\n",
       "      <td>NaN</td>\n",
       "      <td>NaN</td>\n",
       "      <td>NaN</td>\n",
       "      <td>NaN</td>\n",
       "      <td>NaN</td>\n",
       "      <td>NaN</td>\n",
       "      <td>NaN</td>\n",
       "    </tr>\n",
       "    <tr>\n",
       "      <th>last</th>\n",
       "      <td>NaN</td>\n",
       "      <td>2023-08-31 00:00:00</td>\n",
       "      <td>NaN</td>\n",
       "      <td>NaN</td>\n",
       "      <td>NaN</td>\n",
       "      <td>NaN</td>\n",
       "      <td>NaN</td>\n",
       "      <td>NaN</td>\n",
       "      <td>NaN</td>\n",
       "    </tr>\n",
       "    <tr>\n",
       "      <th>mean</th>\n",
       "      <td>NaN</td>\n",
       "      <td>NaN</td>\n",
       "      <td>1.722226</td>\n",
       "      <td>16684.890613</td>\n",
       "      <td>241055.257042</td>\n",
       "      <td>1.980876e+08</td>\n",
       "      <td>60.596831</td>\n",
       "      <td>NaN</td>\n",
       "      <td>226411.066770</td>\n",
       "    </tr>\n",
       "    <tr>\n",
       "      <th>std</th>\n",
       "      <td>NaN</td>\n",
       "      <td>NaN</td>\n",
       "      <td>1.905546</td>\n",
       "      <td>4397.384994</td>\n",
       "      <td>16149.165463</td>\n",
       "      <td>8.554597e+06</td>\n",
       "      <td>2.122945</td>\n",
       "      <td>NaN</td>\n",
       "      <td>112441.083127</td>\n",
       "    </tr>\n",
       "    <tr>\n",
       "      <th>min</th>\n",
       "      <td>NaN</td>\n",
       "      <td>NaN</td>\n",
       "      <td>0.050000</td>\n",
       "      <td>10247.720000</td>\n",
       "      <td>211576.000000</td>\n",
       "      <td>1.783418e+08</td>\n",
       "      <td>51.300000</td>\n",
       "      <td>NaN</td>\n",
       "      <td>75086.605645</td>\n",
       "    </tr>\n",
       "    <tr>\n",
       "      <th>25%</th>\n",
       "      <td>NaN</td>\n",
       "      <td>NaN</td>\n",
       "      <td>0.140000</td>\n",
       "      <td>13599.160000</td>\n",
       "      <td>227521.000000</td>\n",
       "      <td>1.921451e+08</td>\n",
       "      <td>58.800000</td>\n",
       "      <td>NaN</td>\n",
       "      <td>145288.611412</td>\n",
       "    </tr>\n",
       "    <tr>\n",
       "      <th>50%</th>\n",
       "      <td>NaN</td>\n",
       "      <td>NaN</td>\n",
       "      <td>1.030000</td>\n",
       "      <td>15842.259000</td>\n",
       "      <td>240512.500000</td>\n",
       "      <td>2.004187e+08</td>\n",
       "      <td>60.250000</td>\n",
       "      <td>NaN</td>\n",
       "      <td>191852.837798</td>\n",
       "    </tr>\n",
       "    <tr>\n",
       "      <th>75%</th>\n",
       "      <td>NaN</td>\n",
       "      <td>NaN</td>\n",
       "      <td>2.490000</td>\n",
       "      <td>19692.595000</td>\n",
       "      <td>255811.750000</td>\n",
       "      <td>2.054807e+08</td>\n",
       "      <td>62.500000</td>\n",
       "      <td>NaN</td>\n",
       "      <td>282271.333051</td>\n",
       "    </tr>\n",
       "    <tr>\n",
       "      <th>max</th>\n",
       "      <td>NaN</td>\n",
       "      <td>NaN</td>\n",
       "      <td>6.540000</td>\n",
       "      <td>27063.012000</td>\n",
       "      <td>267428.000000</td>\n",
       "      <td>2.089349e+08</td>\n",
       "      <td>64.700000</td>\n",
       "      <td>NaN</td>\n",
       "      <td>687009.435834</td>\n",
       "    </tr>\n",
       "  </tbody>\n",
       "</table>\n",
       "</div>"
      ],
      "text/plain": [
       "             Data Source                 Date  Interest Rates Percentage  \\\n",
       "count               1704                 1704                1698.000000   \n",
       "unique                 6                  284                        NaN   \n",
       "top     ZHVI Condo/Co-op  2000-01-31 00:00:00                        NaN   \n",
       "freq                 284                    6                        NaN   \n",
       "first                NaN  2000-01-31 00:00:00                        NaN   \n",
       "last                 NaN  2023-08-31 00:00:00                        NaN   \n",
       "mean                 NaN                  NaN                   1.722226   \n",
       "std                  NaN                  NaN                   1.905546   \n",
       "min                  NaN                  NaN                   0.050000   \n",
       "25%                  NaN                  NaN                   0.140000   \n",
       "50%                  NaN                  NaN                   1.030000   \n",
       "75%                  NaN                  NaN                   2.490000   \n",
       "max                  NaN                  NaN                   6.540000   \n",
       "\n",
       "                 GDP      Pop_Level  Working Age Population  \\\n",
       "count     558.000000    1704.000000            1.698000e+03   \n",
       "unique           NaN            NaN                     NaN   \n",
       "top              NaN            NaN                     NaN   \n",
       "freq             NaN            NaN                     NaN   \n",
       "first            NaN            NaN                     NaN   \n",
       "last             NaN            NaN                     NaN   \n",
       "mean    16684.890613  241055.257042            1.980876e+08   \n",
       "std      4397.384994   16149.165463            8.554597e+06   \n",
       "min     10247.720000  211576.000000            1.783418e+08   \n",
       "25%     13599.160000  227521.000000            1.921451e+08   \n",
       "50%     15842.259000  240512.500000            2.004187e+08   \n",
       "75%     19692.595000  255811.750000            2.054807e+08   \n",
       "max     27063.012000  267428.000000            2.089349e+08   \n",
       "\n",
       "        Employment Ratio Percentage       Location  single-family home $  \n",
       "count                   1704.000000           1704           1704.000000  \n",
       "unique                          NaN              1                   NaN  \n",
       "top                             NaN  United States                   NaN  \n",
       "freq                            NaN           1704                   NaN  \n",
       "first                           NaN            NaN                   NaN  \n",
       "last                            NaN            NaN                   NaN  \n",
       "mean                      60.596831            NaN         226411.066770  \n",
       "std                        2.122945            NaN         112441.083127  \n",
       "min                       51.300000            NaN          75086.605645  \n",
       "25%                       58.800000            NaN         145288.611412  \n",
       "50%                       60.250000            NaN         191852.837798  \n",
       "75%                       62.500000            NaN         282271.333051  \n",
       "max                       64.700000            NaN         687009.435834  "
      ]
     },
     "execution_count": 124,
     "metadata": {},
     "output_type": "execute_result"
    }
   ],
   "source": [
    "# Verifying the values of nation_df\n",
    "nation_df.describe(include='all')"
   ]
  },
  {
   "cell_type": "code",
   "execution_count": 125,
   "id": "64f8dda3",
   "metadata": {},
   "outputs": [
    {
     "data": {
      "text/plain": [
       "(1704, 9)"
      ]
     },
     "execution_count": 125,
     "metadata": {},
     "output_type": "execute_result"
    }
   ],
   "source": [
    "# Looking and nation_df shape\n",
    "nation_df.shape"
   ]
  },
  {
   "cell_type": "code",
   "execution_count": 126,
   "id": "ccc222b1",
   "metadata": {},
   "outputs": [
    {
     "data": {
      "text/plain": [
       "Data Source                       0\n",
       "Date                              0\n",
       "Interest Rates Percentage         6\n",
       "GDP                            1146\n",
       "Pop_Level                         0\n",
       "Working Age Population            6\n",
       "Employment Ratio Percentage       0\n",
       "Location                          0\n",
       "single-family home $              0\n",
       "dtype: int64"
      ]
     },
     "execution_count": 126,
     "metadata": {},
     "output_type": "execute_result"
    }
   ],
   "source": [
    "# Check for missing values for nation_df\n",
    "nation_df.isnull().sum()\n",
    "\n",
    "# Note: GDP had null values because the meaurement of GDP is done Quarterly"
   ]
  },
  {
   "cell_type": "code",
   "execution_count": 127,
   "id": "98bdb3f0",
   "metadata": {
    "scrolled": true
   },
   "outputs": [
    {
     "name": "stderr",
     "output_type": "stream",
     "text": [
      "C:\\Users\\Acer\\AppData\\Local\\Temp/ipykernel_44732/1107019421.py:2: FutureWarning: Treating datetime data as categorical rather than numeric in `.describe` is deprecated and will be removed in a future version of pandas. Specify `datetime_is_numeric=True` to silence this warning and adopt the future behavior now.\n",
      "  cities_df.describe(include='all')\n"
     ]
    },
    {
     "data": {
      "text/html": [
       "<div>\n",
       "<style scoped>\n",
       "    .dataframe tbody tr th:only-of-type {\n",
       "        vertical-align: middle;\n",
       "    }\n",
       "\n",
       "    .dataframe tbody tr th {\n",
       "        vertical-align: top;\n",
       "    }\n",
       "\n",
       "    .dataframe thead th {\n",
       "        text-align: right;\n",
       "    }\n",
       "</style>\n",
       "<table border=\"1\" class=\"dataframe\">\n",
       "  <thead>\n",
       "    <tr style=\"text-align: right;\">\n",
       "      <th></th>\n",
       "      <th>Data Source</th>\n",
       "      <th>Date</th>\n",
       "      <th>Interest Rates Percentage</th>\n",
       "      <th>GDP</th>\n",
       "      <th>Pop_Level</th>\n",
       "      <th>Working Age Population</th>\n",
       "      <th>Employment Ratio Percentage</th>\n",
       "      <th>Location</th>\n",
       "      <th>single-family home $</th>\n",
       "    </tr>\n",
       "  </thead>\n",
       "  <tbody>\n",
       "    <tr>\n",
       "      <th>count</th>\n",
       "      <td>891192</td>\n",
       "      <td>891192</td>\n",
       "      <td>888054.000000</td>\n",
       "      <td>291834.000000</td>\n",
       "      <td>891192.000000</td>\n",
       "      <td>8.880540e+05</td>\n",
       "      <td>891192.000000</td>\n",
       "      <td>891192</td>\n",
       "      <td>2.688080e+05</td>\n",
       "    </tr>\n",
       "    <tr>\n",
       "      <th>unique</th>\n",
       "      <td>6</td>\n",
       "      <td>284</td>\n",
       "      <td>NaN</td>\n",
       "      <td>NaN</td>\n",
       "      <td>NaN</td>\n",
       "      <td>NaN</td>\n",
       "      <td>NaN</td>\n",
       "      <td>523</td>\n",
       "      <td>NaN</td>\n",
       "    </tr>\n",
       "    <tr>\n",
       "      <th>top</th>\n",
       "      <td>ZHVI Condo/Co-op</td>\n",
       "      <td>2000-01-31 00:00:00</td>\n",
       "      <td>NaN</td>\n",
       "      <td>NaN</td>\n",
       "      <td>NaN</td>\n",
       "      <td>NaN</td>\n",
       "      <td>NaN</td>\n",
       "      <td>New York, NY</td>\n",
       "      <td>NaN</td>\n",
       "    </tr>\n",
       "    <tr>\n",
       "      <th>freq</th>\n",
       "      <td>148532</td>\n",
       "      <td>3138</td>\n",
       "      <td>NaN</td>\n",
       "      <td>NaN</td>\n",
       "      <td>NaN</td>\n",
       "      <td>NaN</td>\n",
       "      <td>NaN</td>\n",
       "      <td>1704</td>\n",
       "      <td>NaN</td>\n",
       "    </tr>\n",
       "    <tr>\n",
       "      <th>first</th>\n",
       "      <td>NaN</td>\n",
       "      <td>2000-01-31 00:00:00</td>\n",
       "      <td>NaN</td>\n",
       "      <td>NaN</td>\n",
       "      <td>NaN</td>\n",
       "      <td>NaN</td>\n",
       "      <td>NaN</td>\n",
       "      <td>NaN</td>\n",
       "      <td>NaN</td>\n",
       "    </tr>\n",
       "    <tr>\n",
       "      <th>last</th>\n",
       "      <td>NaN</td>\n",
       "      <td>2023-08-31 00:00:00</td>\n",
       "      <td>NaN</td>\n",
       "      <td>NaN</td>\n",
       "      <td>NaN</td>\n",
       "      <td>NaN</td>\n",
       "      <td>NaN</td>\n",
       "      <td>NaN</td>\n",
       "      <td>NaN</td>\n",
       "    </tr>\n",
       "    <tr>\n",
       "      <th>mean</th>\n",
       "      <td>NaN</td>\n",
       "      <td>NaN</td>\n",
       "      <td>1.722226</td>\n",
       "      <td>16684.890613</td>\n",
       "      <td>241055.257042</td>\n",
       "      <td>1.980876e+08</td>\n",
       "      <td>60.596831</td>\n",
       "      <td>NaN</td>\n",
       "      <td>1.637994e+05</td>\n",
       "    </tr>\n",
       "    <tr>\n",
       "      <th>std</th>\n",
       "      <td>NaN</td>\n",
       "      <td>NaN</td>\n",
       "      <td>1.904986</td>\n",
       "      <td>4393.450445</td>\n",
       "      <td>16144.435221</td>\n",
       "      <td>8.552082e+06</td>\n",
       "      <td>2.122323</td>\n",
       "      <td>NaN</td>\n",
       "      <td>1.299281e+05</td>\n",
       "    </tr>\n",
       "    <tr>\n",
       "      <th>min</th>\n",
       "      <td>NaN</td>\n",
       "      <td>NaN</td>\n",
       "      <td>0.050000</td>\n",
       "      <td>10247.720000</td>\n",
       "      <td>211576.000000</td>\n",
       "      <td>1.783418e+08</td>\n",
       "      <td>51.300000</td>\n",
       "      <td>NaN</td>\n",
       "      <td>1.709753e+04</td>\n",
       "    </tr>\n",
       "    <tr>\n",
       "      <th>25%</th>\n",
       "      <td>NaN</td>\n",
       "      <td>NaN</td>\n",
       "      <td>0.140000</td>\n",
       "      <td>13599.160000</td>\n",
       "      <td>227521.000000</td>\n",
       "      <td>1.921451e+08</td>\n",
       "      <td>58.800000</td>\n",
       "      <td>NaN</td>\n",
       "      <td>8.564585e+04</td>\n",
       "    </tr>\n",
       "    <tr>\n",
       "      <th>50%</th>\n",
       "      <td>NaN</td>\n",
       "      <td>NaN</td>\n",
       "      <td>1.030000</td>\n",
       "      <td>15842.259000</td>\n",
       "      <td>240512.500000</td>\n",
       "      <td>2.004187e+08</td>\n",
       "      <td>60.250000</td>\n",
       "      <td>NaN</td>\n",
       "      <td>1.272711e+05</td>\n",
       "    </tr>\n",
       "    <tr>\n",
       "      <th>75%</th>\n",
       "      <td>NaN</td>\n",
       "      <td>NaN</td>\n",
       "      <td>2.490000</td>\n",
       "      <td>19692.595000</td>\n",
       "      <td>255811.750000</td>\n",
       "      <td>2.054807e+08</td>\n",
       "      <td>62.500000</td>\n",
       "      <td>NaN</td>\n",
       "      <td>1.933237e+05</td>\n",
       "    </tr>\n",
       "    <tr>\n",
       "      <th>max</th>\n",
       "      <td>NaN</td>\n",
       "      <td>NaN</td>\n",
       "      <td>6.540000</td>\n",
       "      <td>27063.012000</td>\n",
       "      <td>267428.000000</td>\n",
       "      <td>2.089349e+08</td>\n",
       "      <td>64.700000</td>\n",
       "      <td>NaN</td>\n",
       "      <td>2.131263e+06</td>\n",
       "    </tr>\n",
       "  </tbody>\n",
       "</table>\n",
       "</div>"
      ],
      "text/plain": [
       "             Data Source                 Date  Interest Rates Percentage  \\\n",
       "count             891192               891192              888054.000000   \n",
       "unique                 6                  284                        NaN   \n",
       "top     ZHVI Condo/Co-op  2000-01-31 00:00:00                        NaN   \n",
       "freq              148532                 3138                        NaN   \n",
       "first                NaN  2000-01-31 00:00:00                        NaN   \n",
       "last                 NaN  2023-08-31 00:00:00                        NaN   \n",
       "mean                 NaN                  NaN                   1.722226   \n",
       "std                  NaN                  NaN                   1.904986   \n",
       "min                  NaN                  NaN                   0.050000   \n",
       "25%                  NaN                  NaN                   0.140000   \n",
       "50%                  NaN                  NaN                   1.030000   \n",
       "75%                  NaN                  NaN                   2.490000   \n",
       "max                  NaN                  NaN                   6.540000   \n",
       "\n",
       "                  GDP      Pop_Level  Working Age Population  \\\n",
       "count   291834.000000  891192.000000            8.880540e+05   \n",
       "unique            NaN            NaN                     NaN   \n",
       "top               NaN            NaN                     NaN   \n",
       "freq              NaN            NaN                     NaN   \n",
       "first             NaN            NaN                     NaN   \n",
       "last              NaN            NaN                     NaN   \n",
       "mean     16684.890613  241055.257042            1.980876e+08   \n",
       "std       4393.450445   16144.435221            8.552082e+06   \n",
       "min      10247.720000  211576.000000            1.783418e+08   \n",
       "25%      13599.160000  227521.000000            1.921451e+08   \n",
       "50%      15842.259000  240512.500000            2.004187e+08   \n",
       "75%      19692.595000  255811.750000            2.054807e+08   \n",
       "max      27063.012000  267428.000000            2.089349e+08   \n",
       "\n",
       "        Employment Ratio Percentage      Location  single-family home $  \n",
       "count                 891192.000000        891192          2.688080e+05  \n",
       "unique                          NaN           523                   NaN  \n",
       "top                             NaN  New York, NY                   NaN  \n",
       "freq                            NaN          1704                   NaN  \n",
       "first                           NaN           NaN                   NaN  \n",
       "last                            NaN           NaN                   NaN  \n",
       "mean                      60.596831           NaN          1.637994e+05  \n",
       "std                        2.122323           NaN          1.299281e+05  \n",
       "min                       51.300000           NaN          1.709753e+04  \n",
       "25%                       58.800000           NaN          8.564585e+04  \n",
       "50%                       60.250000           NaN          1.272711e+05  \n",
       "75%                       62.500000           NaN          1.933237e+05  \n",
       "max                       64.700000           NaN          2.131263e+06  "
      ]
     },
     "execution_count": 127,
     "metadata": {},
     "output_type": "execute_result"
    }
   ],
   "source": [
    "# Verifying the values of cities_df\n",
    "cities_df.describe(include='all')"
   ]
  },
  {
   "cell_type": "code",
   "execution_count": 128,
   "id": "e4ae18b9",
   "metadata": {},
   "outputs": [
    {
     "data": {
      "text/plain": [
       "Data Source                         0\n",
       "Date                                0\n",
       "Interest Rates Percentage        3138\n",
       "GDP                            599358\n",
       "Pop_Level                           0\n",
       "Working Age Population           3138\n",
       "Employment Ratio Percentage         0\n",
       "Location                            0\n",
       "single-family home $           622384\n",
       "dtype: int64"
      ]
     },
     "execution_count": 128,
     "metadata": {},
     "output_type": "execute_result"
    }
   ],
   "source": [
    "# Check for missing values in cities_df\n",
    "cities_df.isnull().sum()\n",
    "\n",
    "# Note: We can see that single-family home values have a significant amount of null values, we will look at the cities that have a\n",
    "# considerable number of null values and evaluate if we want to keep them or remove them for the analysis"
   ]
  },
  {
   "cell_type": "code",
   "execution_count": 129,
   "id": "7ffee9d4",
   "metadata": {},
   "outputs": [
    {
     "data": {
      "text/plain": [
       "(891192, 9)"
      ]
     },
     "execution_count": 129,
     "metadata": {},
     "output_type": "execute_result"
    }
   ],
   "source": [
    "# Looking at cities_df shape\n",
    "cities_df.shape"
   ]
  },
  {
   "cell_type": "code",
   "execution_count": 130,
   "id": "ba5a7739",
   "metadata": {},
   "outputs": [
    {
     "name": "stdout",
     "output_type": "stream",
     "text": [
      "             Location  Null_Count\n",
      "77       Cadillac, MI        1696\n",
      "243       Kearney, NE        1629\n",
      "187  Grand Island, NE        1618\n",
      "171  Fort Madison, IA        1618\n",
      "364   Parkersburg, WV        1612\n",
      "..                ...         ...\n",
      "280   Los Angeles, CA           0\n",
      "339      New York, NY           0\n",
      "379      Portland, OR           0\n",
      "133        Denver, CO           0\n",
      "92      Charlotte, NC           0\n",
      "\n",
      "[523 rows x 2 columns]\n"
     ]
    }
   ],
   "source": [
    "# Group byLocation, count null values in Single-Family Home value, and organized in ascending order\n",
    "cities_null = cities_df.groupby('Location')['single-family home $'].apply(lambda x: x.isnull().sum()).reset_index()\n",
    "cities_null.columns = ['Location', 'Null_Count']\n",
    "cities_null = cities_null.sort_values(by='Null_Count', ascending=False)\n",
    "\n",
    "# Print the result\n",
    "print(cities_null)"
   ]
  },
  {
   "cell_type": "code",
   "execution_count": 131,
   "id": "76d92a17",
   "metadata": {},
   "outputs": [
    {
     "data": {
      "text/plain": [
       "491"
      ]
     },
     "execution_count": 131,
     "metadata": {},
     "output_type": "execute_result"
    }
   ],
   "source": [
    "#Filtering and saving locations with null count over a 5% null single-family home $.\n",
    "# In other words,  if it has more than 0.05 *1704 or over to 85 null values.\n",
    "limit = 85  # Change this threshold to your the required null count limit\n",
    "location_high_nulls = cities_null[cities_null['Null_Count'] > limit]['Location'].tolist()\n",
    "\n",
    "\n",
    "# OPtional below code: obseve the list over the limit stablished above\n",
    "# print(location_high_nulls)\n",
    "\n",
    "# Getting the final count of the cities with null values over 5%\n",
    "len(location_high_nulls)"
   ]
  },
  {
   "cell_type": "code",
   "execution_count": 134,
   "id": "aca8ca44",
   "metadata": {},
   "outputs": [],
   "source": [
    "# We found that 491 cities, have a significant amount of null values. As this QTY is considered significant for the analysis\n",
    "# It is decided to drop those columns\n",
    "\n",
    "filtered_cities_df = cities_df[~cities_df['Location'].isin(location_high_nulls)]"
   ]
  },
  {
   "cell_type": "code",
   "execution_count": 135,
   "id": "2b04b9f8",
   "metadata": {},
   "outputs": [
    {
     "data": {
      "text/plain": [
       "(54528, 9)"
      ]
     },
     "execution_count": 135,
     "metadata": {},
     "output_type": "execute_result"
    }
   ],
   "source": [
    "# Verifying shape of the new filtered filtered_cities_df\n",
    "\n",
    "filtered_cities_df.shape"
   ]
  },
  {
   "cell_type": "code",
   "execution_count": 137,
   "id": "f028a87f",
   "metadata": {},
   "outputs": [
    {
     "data": {
      "text/html": [
       "<div>\n",
       "<style scoped>\n",
       "    .dataframe tbody tr th:only-of-type {\n",
       "        vertical-align: middle;\n",
       "    }\n",
       "\n",
       "    .dataframe tbody tr th {\n",
       "        vertical-align: top;\n",
       "    }\n",
       "\n",
       "    .dataframe thead th {\n",
       "        text-align: right;\n",
       "    }\n",
       "</style>\n",
       "<table border=\"1\" class=\"dataframe\">\n",
       "  <thead>\n",
       "    <tr style=\"text-align: right;\">\n",
       "      <th></th>\n",
       "      <th>Interest Rates Percentage</th>\n",
       "      <th>GDP</th>\n",
       "      <th>Pop_Level</th>\n",
       "      <th>Working Age Population</th>\n",
       "      <th>Employment Ratio Percentage</th>\n",
       "      <th>single-family home $</th>\n",
       "    </tr>\n",
       "  </thead>\n",
       "  <tbody>\n",
       "    <tr>\n",
       "      <th>count</th>\n",
       "      <td>54336.000000</td>\n",
       "      <td>17856.000000</td>\n",
       "      <td>54528.000000</td>\n",
       "      <td>5.433600e+04</td>\n",
       "      <td>54528.000000</td>\n",
       "      <td>5.450900e+04</td>\n",
       "    </tr>\n",
       "    <tr>\n",
       "      <th>mean</th>\n",
       "      <td>1.722226</td>\n",
       "      <td>16684.890613</td>\n",
       "      <td>241055.257042</td>\n",
       "      <td>1.980876e+08</td>\n",
       "      <td>60.596831</td>\n",
       "      <td>2.708231e+05</td>\n",
       "    </tr>\n",
       "    <tr>\n",
       "      <th>std</th>\n",
       "      <td>1.905002</td>\n",
       "      <td>4393.565947</td>\n",
       "      <td>16144.574203</td>\n",
       "      <td>8.552156e+06</td>\n",
       "      <td>2.122341</td>\n",
       "      <td>1.918322e+05</td>\n",
       "    </tr>\n",
       "    <tr>\n",
       "      <th>min</th>\n",
       "      <td>0.050000</td>\n",
       "      <td>10247.720000</td>\n",
       "      <td>211576.000000</td>\n",
       "      <td>1.783418e+08</td>\n",
       "      <td>51.300000</td>\n",
       "      <td>4.095022e+04</td>\n",
       "    </tr>\n",
       "    <tr>\n",
       "      <th>25%</th>\n",
       "      <td>0.140000</td>\n",
       "      <td>13599.160000</td>\n",
       "      <td>227521.000000</td>\n",
       "      <td>1.921451e+08</td>\n",
       "      <td>58.800000</td>\n",
       "      <td>1.354789e+05</td>\n",
       "    </tr>\n",
       "    <tr>\n",
       "      <th>50%</th>\n",
       "      <td>1.030000</td>\n",
       "      <td>15842.259000</td>\n",
       "      <td>240512.500000</td>\n",
       "      <td>2.004187e+08</td>\n",
       "      <td>60.250000</td>\n",
       "      <td>2.215796e+05</td>\n",
       "    </tr>\n",
       "    <tr>\n",
       "      <th>75%</th>\n",
       "      <td>2.490000</td>\n",
       "      <td>19692.595000</td>\n",
       "      <td>255811.750000</td>\n",
       "      <td>2.054807e+08</td>\n",
       "      <td>62.500000</td>\n",
       "      <td>3.457348e+05</td>\n",
       "    </tr>\n",
       "    <tr>\n",
       "      <th>max</th>\n",
       "      <td>6.540000</td>\n",
       "      <td>27063.012000</td>\n",
       "      <td>267428.000000</td>\n",
       "      <td>2.089349e+08</td>\n",
       "      <td>64.700000</td>\n",
       "      <td>2.131263e+06</td>\n",
       "    </tr>\n",
       "  </tbody>\n",
       "</table>\n",
       "</div>"
      ],
      "text/plain": [
       "       Interest Rates Percentage           GDP      Pop_Level  \\\n",
       "count               54336.000000  17856.000000   54528.000000   \n",
       "mean                    1.722226  16684.890613  241055.257042   \n",
       "std                     1.905002   4393.565947   16144.574203   \n",
       "min                     0.050000  10247.720000  211576.000000   \n",
       "25%                     0.140000  13599.160000  227521.000000   \n",
       "50%                     1.030000  15842.259000  240512.500000   \n",
       "75%                     2.490000  19692.595000  255811.750000   \n",
       "max                     6.540000  27063.012000  267428.000000   \n",
       "\n",
       "       Working Age Population  Employment Ratio Percentage  \\\n",
       "count            5.433600e+04                 54528.000000   \n",
       "mean             1.980876e+08                    60.596831   \n",
       "std              8.552156e+06                     2.122341   \n",
       "min              1.783418e+08                    51.300000   \n",
       "25%              1.921451e+08                    58.800000   \n",
       "50%              2.004187e+08                    60.250000   \n",
       "75%              2.054807e+08                    62.500000   \n",
       "max              2.089349e+08                    64.700000   \n",
       "\n",
       "       single-family home $  \n",
       "count          5.450900e+04  \n",
       "mean           2.708231e+05  \n",
       "std            1.918322e+05  \n",
       "min            4.095022e+04  \n",
       "25%            1.354789e+05  \n",
       "50%            2.215796e+05  \n",
       "75%            3.457348e+05  \n",
       "max            2.131263e+06  "
      ]
     },
     "execution_count": 137,
     "metadata": {},
     "output_type": "execute_result"
    }
   ],
   "source": [
    "# Looking at the destription of the filtered cities_df\n",
    "\n",
    "filtered_cities_df.describe()"
   ]
  },
  {
   "cell_type": "code",
   "execution_count": 138,
   "id": "652b387c",
   "metadata": {},
   "outputs": [
    {
     "data": {
      "text/plain": [
       "Data Source                        0\n",
       "Date                               0\n",
       "Interest Rates Percentage        192\n",
       "GDP                            36672\n",
       "Pop_Level                          0\n",
       "Working Age Population           192\n",
       "Employment Ratio Percentage        0\n",
       "Location                           0\n",
       "single-family home $              19\n",
       "dtype: int64"
      ]
     },
     "execution_count": 138,
     "metadata": {},
     "output_type": "execute_result"
    }
   ],
   "source": [
    "# Check for additoinal missing values in cities_df\n",
    "filtered_cities_df.isnull().sum()"
   ]
  },
  {
   "cell_type": "code",
   "execution_count": null,
   "id": "96b1fcc7",
   "metadata": {},
   "outputs": [],
   "source": [
    "### ToDo: Finalize null handling for filtered_cities_df"
   ]
  },
  {
   "cell_type": "markdown",
   "id": "a5082804",
   "metadata": {},
   "source": [
    "--------"
   ]
  },
  {
   "cell_type": "markdown",
   "id": "d96ae01f",
   "metadata": {},
   "source": [
    "### 2. Exploratory Data Analysis"
   ]
  },
  {
   "cell_type": "markdown",
   "id": "9ffbb83e",
   "metadata": {},
   "source": [
    "### 2.1 Univariate Analysis:"
   ]
  },
  {
   "cell_type": "markdown",
   "id": "11126748",
   "metadata": {},
   "source": [
    "#### 2.1.A - nation_df analysis"
   ]
  },
  {
   "cell_type": "code",
   "execution_count": 143,
   "id": "eabcf05b",
   "metadata": {},
   "outputs": [
    {
     "data": {
      "image/png": "[encoded data removed]",
      "text/plain": [
       "<Figure size 576x360 with 1 Axes>"
      ]
     },
     "metadata": {
      "needs_background": "light"
     },
     "output_type": "display_data"
    },
    {
     "data": {
      "image/png": "[encoded data removed]",
      "text/plain": [
       "<Figure size 576x360 with 1 Axes>"
      ]
     },
     "metadata": {
      "needs_background": "light"
     },
     "output_type": "display_data"
    },
    {
     "data": {
      "image/png": "[encoded data removed]",
      "text/plain": [
       "<Figure size 576x360 with 1 Axes>"
      ]
     },
     "metadata": {
      "needs_background": "light"
     },
     "output_type": "display_data"
    },
    {
     "data": {
      "image/png": "[encoded data removed]",
      "text/plain": [
       "<Figure size 576x360 with 1 Axes>"
      ]
     },
     "metadata": {
      "needs_background": "light"
     },
     "output_type": "display_data"
    },
    {
     "data": {
      "image/png": "[encoded data removed]",
      "text/plain": [
       "<Figure size 576x360 with 1 Axes>"
      ]
     },
     "metadata": {
      "needs_background": "light"
     },
     "output_type": "display_data"
    },
    {
     "data": {
      "image/png": "[encoded data removed]",
      "text/plain": [
       "<Figure size 576x360 with 1 Axes>"
      ]
     },
     "metadata": {
      "needs_background": "light"
     },
     "output_type": "display_data"
    }
   ],
   "source": [
    "# First, we will start creating histograms for all numerical variables\n",
    "# Getting the list of numerical column names\n",
    "nation_numeric_columns = nation_df.select_dtypes(include=[int, float]).columns\n",
    "\n",
    "# Create histograms for each numerical column\n",
    "for column in nation_numeric_columns:\n",
    "    plt.figure(figsize=(8, 5))\n",
    "    plt.hist(nation_df[column], bins=10, color='skyblue')\n",
    "    plt.title(f'Histogram of {column}')\n",
    "    plt.xlabel(column)\n",
    "    plt.ylabel('Frequency')\n",
    "    plt.grid(axis='y', linestyle='--', alpha=0.7)\n",
    "    plt.show()"
   ]
  },
  {
   "cell_type": "code",
   "execution_count": 144,
   "id": "fee7b343",
   "metadata": {},
   "outputs": [
    {
     "data": {
      "image/png": "[encoded data removed]",
      "text/plain": [
       "<Figure size 1080x360 with 6 Axes>"
      ]
     },
     "metadata": {
      "needs_background": "light"
     },
     "output_type": "display_data"
    }
   ],
   "source": [
    "## Now, we will create box plots for all numerical varaibles in nation_df\n",
    "\n",
    "# Creating subplots for the boxplots\n",
    "fig, axes = plt.subplots(nrows=1, ncols=len(nation_numeric_columns), figsize=(15, 5))\n",
    "\n",
    "# Loop through numerical columns and create boxplots\n",
    "for i, column in enumerate(nation_numeric_columns):\n",
    "    ax = axes[i]\n",
    "    nation_df.boxplot(column=column, ax=ax)\n",
    "    ax.set_title(column)\n",
    "\n",
    "# Adjust layout and display plots\n",
    "plt.tight_layout()\n",
    "plt.show()"
   ]
  },
  {
   "cell_type": "markdown",
   "id": "9ce47c56",
   "metadata": {},
   "source": [
    "#### Observations: \n",
    "1. Interest rates and single-family home value have a right skewed distribution as well as a greater number of outliers\n",
    "\n"
   ]
  },
  {
   "cell_type": "markdown",
   "id": "f5619da9",
   "metadata": {},
   "source": [
    "#### 2.1.B - cities_df analysis"
   ]
  },
  {
   "cell_type": "code",
   "execution_count": 145,
   "id": "9f3efd74",
   "metadata": {},
   "outputs": [],
   "source": [
    "### ToDo: Univariate analysis for cities data frame will be done after the filtered_cities_df is completely dealt with null values"
   ]
  },
  {
   "cell_type": "markdown",
   "id": "ac15c95a",
   "metadata": {},
   "source": [
    "### 2.2. Bivariate Analysis:"
   ]
  },
  {
   "cell_type": "markdown",
   "id": "5180048f",
   "metadata": {},
   "source": [
    "#### 2.2.A - nation_df analysis"
   ]
  },
  {
   "cell_type": "code",
   "execution_count": 153,
   "id": "6ad53f69",
   "metadata": {},
   "outputs": [
    {
     "data": {
      "image/png": "[encoded data removed]",
      "text/plain": [
       "<Figure size 432x288 with 1 Axes>"
      ]
     },
     "metadata": {
      "needs_background": "light"
     },
     "output_type": "display_data"
    },
    {
     "data": {
      "image/png": "[encoded data removed]",
      "text/plain": [
       "<Figure size 432x288 with 1 Axes>"
      ]
     },
     "metadata": {
      "needs_background": "light"
     },
     "output_type": "display_data"
    },
    {
     "data": {
      "image/png": "[encoded data removed]",
      "text/plain": [
       "<Figure size 432x288 with 1 Axes>"
      ]
     },
     "metadata": {
      "needs_background": "light"
     },
     "output_type": "display_data"
    },
    {
     "data": {
      "image/png": "[encoded data removed]",
      "text/plain": [
       "<Figure size 432x288 with 1 Axes>"
      ]
     },
     "metadata": {
      "needs_background": "light"
     },
     "output_type": "display_data"
    },
    {
     "data": {
      "image/png": "[encoded data removed]",
      "text/plain": [
       "<Figure size 432x288 with 1 Axes>"
      ]
     },
     "metadata": {
      "needs_background": "light"
     },
     "output_type": "display_data"
    },
    {
     "data": {
      "image/png": "[encoded data removed]",
      "text/plain": [
       "<Figure size 432x288 with 1 Axes>"
      ]
     },
     "metadata": {
      "needs_background": "light"
     },
     "output_type": "display_data"
    }
   ],
   "source": [
    "# We will create scatter plots to observe all numerical values Vs the date\n",
    "\n",
    "# Create scatter plots for each numerical column against the date\n",
    "for column in nation_numeric_columns:\n",
    "    plt.scatter(nation_df['Date'], nation_df[column])\n",
    "    plt.xlabel('Date')\n",
    "    plt.ylabel(column)\n",
    "    plt.title(f'Scatter Plot of Date vs. {column}')\n",
    "    plt.show()\n",
    "\n"
   ]
  },
  {
   "cell_type": "markdown",
   "id": "8807f36f",
   "metadata": {},
   "source": [
    "#### Observations: \n",
    "1. It is noticible the interest rates peaks in different periods of time, it does not appear to have a time pattern\n",
    "2. GDP has been steadily growing since 2000 as well as population level\n",
    "3. The slope of Working age population seems to have changed in the most recent years and it looks more flat\n",
    "4. Employment Ration Percentage seems to be gradually decreasing over all with a notable decrease when COVID hit.\n",
    "5. Date Vs Single-family home value shows an overall increase in real estate properties. It shows 6 lines which would correspond to the data source type - condo, 1bed, 2 bed, 3 bed, 4 bed, 5+\n",
    "\n",
    "Note: Next step is to improve the graphs, specially the chart for Date Vs Single-Family value by adding lables to each of the cities.\n"
   ]
  },
  {
   "cell_type": "markdown",
   "id": "ee7c35a3",
   "metadata": {},
   "source": [
    "#### 2.2.B - cities_df analysis"
   ]
  },
  {
   "cell_type": "code",
   "execution_count": 145,
   "id": "c09ad530",
   "metadata": {},
   "outputs": [],
   "source": [
    "### ToDo: Bivariate analysis for cities data frame will be done after the filtered_cities_df is completely dealt with null values"
   ]
  },
  {
   "cell_type": "markdown",
   "id": "ccfa1198",
   "metadata": {},
   "source": [
    "### 2.3. Correlation Analysis:"
   ]
  },
  {
   "cell_type": "markdown",
   "id": "55e3f1c5",
   "metadata": {},
   "source": [
    "#### 2.3.A - nation_df analysis"
   ]
  },
  {
   "cell_type": "code",
   "execution_count": 148,
   "id": "5c2bda1d",
   "metadata": {},
   "outputs": [
    {
     "data": {
      "image/png": "[encoded data removed]",
      "text/plain": [
       "<Figure size 432x288 with 2 Axes>"
      ]
     },
     "metadata": {
      "needs_background": "light"
     },
     "output_type": "display_data"
    }
   ],
   "source": [
    "# Correlation matrix\n",
    "correlation_matrix_nation = nation_df.corr()\n",
    "\n",
    "# Heatmap of the correlation matrix\n",
    "sns.heatmap(correlation_matrix_nation, annot=True, cmap='coolwarm')\n",
    "plt.title('Correlation Heatmap')\n",
    "plt.show()"
   ]
  },
  {
   "cell_type": "markdown",
   "id": "f9e248a7",
   "metadata": {},
   "source": [
    "#### Observations: \n",
    "1. Single-family home values have some correlation with GDP, Population leve and Working Age Population\n",
    "2. Employment Ratio Percentage has a strong correlation with Working Age Population, Population level and Interest Rates Percentage\n",
    "3. Worling Age population has a strong Corrilation with Empoyment Ration Percentage, Population level, and GDP\n",
    "\n",
    "Note: Next step is be to check for colinearity of the chosen variables\n"
   ]
  },
  {
   "cell_type": "markdown",
   "id": "e7e36333",
   "metadata": {},
   "source": [
    "#### Hypothesis:\n",
    " Up to this point, it seems that there is certain relation of oour target variable with GDP, Population level and working age populatoin. However, while looking at the other variables correlation, there might be some that have a high change to have some colinearity\n"
   ]
  },
  {
   "cell_type": "markdown",
   "id": "fd2c962a",
   "metadata": {},
   "source": [
    "#### 2.3.B - cities_df analysis"
   ]
  },
  {
   "cell_type": "code",
   "execution_count": 154,
   "id": "5c804969",
   "metadata": {},
   "outputs": [],
   "source": [
    "### ToDo:Correlation analysis for cities data frame will be done after the filtered_cities_df is completely dealt with null values"
   ]
  },
  {
   "cell_type": "code",
   "execution_count": null,
   "id": "56d452fd",
   "metadata": {},
   "outputs": [],
   "source": []
  }
 ],
 "metadata": {
  "kernelspec": {
   "display_name": "Python 3 (ipykernel)",
   "language": "python",
   "name": "python3"
  },
  "language_info": {
   "codemirror_mode": {
    "name": "ipython",
    "version": 3
   },
   "file_extension": ".py",
   "mimetype": "text/x-python",
   "name": "python",
   "nbconvert_exporter": "python",
   "pygments_lexer": "ipython3",
   "version": "3.9.7"
  }
 },
 "nbformat": 4,
 "nbformat_minor": 5
}
